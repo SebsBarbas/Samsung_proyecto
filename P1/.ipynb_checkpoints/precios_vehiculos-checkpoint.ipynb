{
 "cells": [
  {
   "cell_type": "code",
   "execution_count": 1,
   "metadata": {},
   "outputs": [],
   "source": [
    "import pandas as pd\n",
    "import os\n",
    "import glob\n",
    "import re\n",
    "\n",
    "from sklearn import preprocessing\n",
    "from sklearn.model_selection import cross_val_score\n",
    "from sklearn.linear_model import LinearRegression"
   ]
  },
  {
   "cell_type": "code",
   "execution_count": 3,
   "metadata": {},
   "outputs": [],
   "source": [
    "# Creación del dataframe\n",
    "\n",
    "path = os.getcwd()\n",
    "csv_files = glob.glob(os.path.join(\"./\", \"dataset/*.csv\"))\n",
    "\n",
    "dataset = pd.DataFrame()\n",
    "\n",
    "for f in csv_files:\n",
    "    brand = re.sub(r'\\.\\/dataset\\\\', \"\", f)\n",
    "    brand = brand.replace(\".csv\", \"\")\n",
    "    \n",
    "    df = pd.read_csv(f)\n",
    "    df[\"brand\"] = brand\n",
    "    \n",
    "    tax_c = [x for x in df.columns if re.match(r'tax', x)]\n",
    "    \n",
    "    if \"tax\" not in tax_c and tax_c != []:\n",
    "        tax_c_str = tax_c[0]\n",
    "        df.rename(columns = {tax_c_str : 'tax'}, inplace = True)\n",
    "    \n",
    "    dataset = dataset.append(df)\n",
    "    \n",
    "#dataset = dataset.fillna(0)\n",
    "dataset = dataset.dropna(axis = 1)"
   ]
  },
  {
   "cell_type": "code",
   "execution_count": 4,
   "metadata": {},
   "outputs": [
    {
     "name": "stdout",
     "output_type": "stream",
     "text": [
      "      model  year  price transmission  mileage fuelType  engineSize brand\n",
      "0        A1  2017  12500       Manual    15735   Petrol         1.4  audi\n",
      "1        A6  2016  16500    Automatic    36203   Diesel         2.0  audi\n",
      "2        A1  2016  11000       Manual    29946   Petrol         1.4  audi\n",
      "3        A4  2017  16800    Automatic    25952   Diesel         2.0  audi\n",
      "4        A3  2019  17300       Manual     1998   Petrol         1.0  audi\n",
      "...     ...   ...    ...          ...      ...      ...         ...   ...\n",
      "15152   Eos  2012   5990       Manual    74000   Diesel         2.0    vw\n",
      "15153   Fox  2008   1799       Manual    88102   Petrol         1.2    vw\n",
      "15154   Fox  2009   1590       Manual    70000   Petrol         1.4    vw\n",
      "15155   Fox  2006   1250       Manual    82704   Petrol         1.2    vw\n",
      "15156   Fox  2007   2295       Manual    74000   Petrol         1.2    vw\n",
      "\n",
      "[108540 rows x 8 columns]\n",
      "       model      year  price  transmission   mileage  fuelType  engineSize  \\\n",
      "0          9  0.127145  12500             1  0.991884         4    0.000088   \n",
      "1         14  0.055600  16500             0  0.998453         0    0.000055   \n",
      "2          9  0.067169  11000             1  0.997742         4    0.000047   \n",
      "3         12  0.077487  16800             0  0.996993         0    0.000077   \n",
      "4         11  0.710794  17300             1  0.703401         4    0.000352   \n",
      "...      ...       ...    ...           ...       ...       ...         ...   \n",
      "15152     57  0.027179   5990             1  0.999631         0    0.000027   \n",
      "15153     62  0.022786   1799             1  0.999740         4    0.000014   \n",
      "15154     62  0.028688   1590             1  0.999588         4    0.000020   \n",
      "15155     62  0.024248   1250             1  0.999706         4    0.000015   \n",
      "15156     62  0.027112   2295             1  0.999632         4    0.000016   \n",
      "\n",
      "       brand  \n",
      "0          0  \n",
      "1          0  \n",
      "2          0  \n",
      "3          0  \n",
      "4          0  \n",
      "...      ...  \n",
      "15152     10  \n",
      "15153     10  \n",
      "15154     10  \n",
      "15155     10  \n",
      "15156     10  \n",
      "\n",
      "[108540 rows x 8 columns]\n"
     ]
    }
   ],
   "source": [
    "# Preprocesamiento de datos\n",
    "\n",
    "scaler = preprocessing.MinMaxScaler()\n",
    "label_enc = preprocessing.LabelEncoder()\n",
    "\n",
    "# Datos a regularizar\n",
    "#reg_data = ['year', 'mileage', 'tax', 'mpg', 'engineSize']\n",
    "reg_data = ['year', 'mileage', 'engineSize']\n",
    "\n",
    "# Datos para etiquetar\n",
    "lab_data = ['model', 'transmission', 'fuelType', 'brand']\n",
    "\n",
    "print(dataset)\n",
    "\n",
    "#dataset[reg_data] = scaler.fit_transform(dataset[reg_data])\n",
    "dataset[reg_data] = preprocessing.normalize(dataset[reg_data], norm = 'l2')\n",
    "\n",
    "for c in lab_data:\n",
    "    dataset[c] = label_enc.fit_transform(dataset[c])\n",
    "    \n",
    "print(dataset)\n",
    "\n",
    "X = dataset[reg_data + lab_data]\n",
    "y = dataset['price']\n",
    "\n",
    "#dataset['year'] = scaler.fit_transform(dataset['year'].reshape(-1, 1))\n",
    "#dataset['price'] = scaler.fit_transform(dataset['price'])\n",
    "#dataset['mileage'] = scaler.fit_transorm(dataset['mileage'])\n",
    "#dataset['tax'] = scaler.fit_transorm(dataset['tax'])\n",
    "#dataset['mpg'] = scaler.fit_transorm(dataset['mpg'])\n",
    "#dataset['engineSize'] = scaler.fit_transorm(dataset['engineSize'])\n",
    "\n",
    "#dataset['model'] = label_enc.fit_transform(dataset['model'])\n",
    "#dataset['transmission'] = label_enc.fit_transform(dataset['transmission'])\n",
    "#dataset['fuelType'] = label_enc.fit_transform(dataset['fuelType'])\n",
    "#dataset['brand'] = label_enc.fit_transform(dataset['brand'])"
   ]
  },
  {
   "cell_type": "code",
   "execution_count": 5,
   "metadata": {},
   "outputs": [
    {
     "data": {
      "text/plain": [
       "array([-68100252.50059715, -25475578.65062837, -61022942.89305083,\n",
       "       -30053369.02014657, -27355408.71937299])"
      ]
     },
     "execution_count": 5,
     "metadata": {},
     "output_type": "execute_result"
    }
   ],
   "source": [
    "lin_reg = LinearRegression()\n",
    "\n",
    "cross_val_score(lin_reg, X, y, cv = 5, scoring = 'neg_mean_squared_error')"
   ]
  },
  {
   "cell_type": "code",
   "execution_count": null,
   "metadata": {},
   "outputs": [],
   "source": [
    "from sklearn.model_selection import RandomizedSearchCV\n",
    "from sklearn.ensemble import RandomForestRegressor\n",
    "\n",
    "parameters = {\n",
    "    \n",
    "}\n",
    "\n",
    "rnd_forest_reg = RandomForestRegressor()\n",
    "rs = RandomizedSearchCV(rnd_forest_reg, parameters, n_iter = 25, verbose = 1, n_jobs = -1, cv = 3, random_state = 123)"
   ]
  }
 ],
 "metadata": {
  "kernelspec": {
   "display_name": "Python 3",
   "language": "python",
   "name": "python3"
  },
  "language_info": {
   "codemirror_mode": {
    "name": "ipython",
    "version": 3
   },
   "file_extension": ".py",
   "mimetype": "text/x-python",
   "name": "python",
   "nbconvert_exporter": "python",
   "pygments_lexer": "ipython3",
   "version": "3.7.7"
  }
 },
 "nbformat": 4,
 "nbformat_minor": 4
}
