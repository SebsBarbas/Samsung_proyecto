{
 "cells": [
  {
   "cell_type": "code",
   "execution_count": 11,
   "metadata": {},
   "outputs": [],
   "source": [
    "import pandas as pd\n",
    "import os\n",
    "import glob\n",
    "import re\n",
    "\n",
    "from sklearn import preprocessing\n",
    "from sklearn.model_selection import cross_val_score\n",
    "from sklearn.linear_model import LinearRegression"
   ]
  },
  {
   "cell_type": "code",
   "execution_count": 12,
   "metadata": {
    "tags": []
   },
   "outputs": [
    {
     "output_type": "execute_result",
     "data": {
      "text/plain": [
       "         model  year   price transmission  mileage fuelType  engineSize brand\n",
       "6199   G Class  2020  159999    Semi-Auto     1350   Petrol         4.0  merc"
      ],
      "text/html": "<div>\n<style scoped>\n    .dataframe tbody tr th:only-of-type {\n        vertical-align: middle;\n    }\n\n    .dataframe tbody tr th {\n        vertical-align: top;\n    }\n\n    .dataframe thead th {\n        text-align: right;\n    }\n</style>\n<table border=\"1\" class=\"dataframe\">\n  <thead>\n    <tr style=\"text-align: right;\">\n      <th></th>\n      <th>model</th>\n      <th>year</th>\n      <th>price</th>\n      <th>transmission</th>\n      <th>mileage</th>\n      <th>fuelType</th>\n      <th>engineSize</th>\n      <th>brand</th>\n    </tr>\n  </thead>\n  <tbody>\n    <tr>\n      <th>6199</th>\n      <td>G Class</td>\n      <td>2020</td>\n      <td>159999</td>\n      <td>Semi-Auto</td>\n      <td>1350</td>\n      <td>Petrol</td>\n      <td>4.0</td>\n      <td>merc</td>\n    </tr>\n  </tbody>\n</table>\n</div>"
     },
     "metadata": {},
     "execution_count": 12
    }
   ],
   "source": [
    "# Creación del dataframe\n",
    "\n",
    "path = os.getcwd()\n",
    "csv_files = glob.glob(os.path.join(\"./\", \"dataset/*.csv\"))\n",
    "#print(csv_files)\n",
    "\n",
    "dataset = pd.DataFrame()\n",
    "\n",
    "for f in csv_files:\n",
    "    brand = re.sub(r'\\.\\/dataset\\\\', \"\", f)\n",
    "    brand = brand.replace(\".csv\", \"\")\n",
    "    \n",
    "    df = pd.read_csv(f)\n",
    "    df[\"brand\"] = brand\n",
    "    \n",
    "    tax_c = [x for x in df.columns if re.match(r'tax', x)]\n",
    "    \n",
    "    if \"tax\" not in tax_c and tax_c != []:\n",
    "        tax_c_str = tax_c[0]\n",
    "        df.rename(columns = {tax_c_str : 'tax'}, inplace = True)\n",
    "    \n",
    "    dataset = dataset.append(df)\n",
    "\n",
    "#Ideas\n",
    "#Quitar engineSize = 0\n",
    "#dataset[dataset[\"model\"] == \" C Class\"]\n",
    "    \n",
    "#dataset = dataset.fillna(0)\n",
    "#Quitamos las taxes y los mpg porque \n",
    "dataset = dataset.dropna(axis = 1)\n",
    "#Quitamos los engines que tienen tamaño 0, porque no tiene sentido\n",
    "dataset = dataset[dataset[\"engineSize\"] != 0]\n",
    "#Quitamos los coches que son del año 1970 y 2060, son solo dos coches --> erroneo\n",
    "dataset = dataset[(dataset[\"year\"] != 2060) & (dataset[\"year\"] != 1970)]\n",
    "max(set(list(dataset[\"price\"])))\n",
    "dataset[dataset[\"price\"] == max(dataset[\"price\"])]\n",
    "#lm = dataset.groupby([\"model\"])\n",
    "#dataset\n",
    "#dataset\n",
    "#e_size = lm.get_group(\" A1\")\n",
    "#e_size[e_size[\"engineSize\"] == 0]\n",
    "#models = dataset[\"model\"]\n",
    "#dataset[(dataset[\"model\"] == models) & (dataset[\"engineSize\"] == 0)]\n",
    "#df = dataset[]\n",
    "#dataset = dataset[dataset[\"engineSize\"] != 0]\n",
    "#set(list(dataset[\"year\"]))\n",
    "#dataset[dataset[\"tax\"].isnull()]"
   ]
  },
  {
   "cell_type": "code",
   "execution_count": 27,
   "metadata": {},
   "outputs": [
    {
     "output_type": "error",
     "ename": "InvalidIndexError",
     "evalue": "Reindexing only valid with uniquely valued Index objects",
     "traceback": [
      "\u001b[1;31m---------------------------------------------------------------------------\u001b[0m",
      "\u001b[1;31mInvalidIndexError\u001b[0m                         Traceback (most recent call last)",
      "\u001b[1;32m<ipython-input-27-e940479b0321>\u001b[0m in \u001b[0;36m<module>\u001b[1;34m\u001b[0m\n\u001b[0;32m     22\u001b[0m \u001b[1;31m#dataset = pd.concat([dataset, ohe_df], axis=1).drop([c], axis=1)\u001b[0m\u001b[1;33m\u001b[0m\u001b[1;33m\u001b[0m\u001b[1;33m\u001b[0m\u001b[0m\n\u001b[0;32m     23\u001b[0m \u001b[1;31m#ohe_df\u001b[0m\u001b[1;33m\u001b[0m\u001b[1;33m\u001b[0m\u001b[1;33m\u001b[0m\u001b[0m\n\u001b[1;32m---> 24\u001b[1;33m \u001b[0md\u001b[0m \u001b[1;33m=\u001b[0m \u001b[0mpd\u001b[0m\u001b[1;33m.\u001b[0m\u001b[0mconcat\u001b[0m\u001b[1;33m(\u001b[0m\u001b[1;33m[\u001b[0m\u001b[0mdataset\u001b[0m\u001b[1;33m,\u001b[0m \u001b[0mohe_df\u001b[0m\u001b[1;33m]\u001b[0m\u001b[1;33m,\u001b[0m \u001b[0maxis\u001b[0m \u001b[1;33m=\u001b[0m \u001b[1;36m1\u001b[0m\u001b[1;33m,\u001b[0m \u001b[0mignore_index\u001b[0m \u001b[1;33m=\u001b[0m \u001b[1;32mFalse\u001b[0m\u001b[1;33m)\u001b[0m\u001b[1;33m\u001b[0m\u001b[1;33m\u001b[0m\u001b[0m\n\u001b[0m\u001b[0;32m     25\u001b[0m \u001b[1;31m#print(ohe_df.shape)\u001b[0m\u001b[1;33m\u001b[0m\u001b[1;33m\u001b[0m\u001b[1;33m\u001b[0m\u001b[0m\n\u001b[0;32m     26\u001b[0m \u001b[1;31m#print(dataset.shape)\u001b[0m\u001b[1;33m\u001b[0m\u001b[1;33m\u001b[0m\u001b[1;33m\u001b[0m\u001b[0m\n",
      "\u001b[1;32m~\\AppData\\Local\\Programs\\Python\\Python37\\lib\\site-packages\\pandas\\core\\reshape\\concat.py\u001b[0m in \u001b[0;36mconcat\u001b[1;34m(objs, axis, join, ignore_index, keys, levels, names, verify_integrity, sort, copy)\u001b[0m\n\u001b[0;32m    296\u001b[0m     )\n\u001b[0;32m    297\u001b[0m \u001b[1;33m\u001b[0m\u001b[0m\n\u001b[1;32m--> 298\u001b[1;33m     \u001b[1;32mreturn\u001b[0m \u001b[0mop\u001b[0m\u001b[1;33m.\u001b[0m\u001b[0mget_result\u001b[0m\u001b[1;33m(\u001b[0m\u001b[1;33m)\u001b[0m\u001b[1;33m\u001b[0m\u001b[1;33m\u001b[0m\u001b[0m\n\u001b[0m\u001b[0;32m    299\u001b[0m \u001b[1;33m\u001b[0m\u001b[0m\n\u001b[0;32m    300\u001b[0m \u001b[1;33m\u001b[0m\u001b[0m\n",
      "\u001b[1;32m~\\AppData\\Local\\Programs\\Python\\Python37\\lib\\site-packages\\pandas\\core\\reshape\\concat.py\u001b[0m in \u001b[0;36mget_result\u001b[1;34m(self)\u001b[0m\n\u001b[0;32m    514\u001b[0m                     \u001b[0mobj_labels\u001b[0m \u001b[1;33m=\u001b[0m \u001b[0mobj\u001b[0m\u001b[1;33m.\u001b[0m\u001b[0maxes\u001b[0m\u001b[1;33m[\u001b[0m\u001b[1;36m1\u001b[0m \u001b[1;33m-\u001b[0m \u001b[0max\u001b[0m\u001b[1;33m]\u001b[0m\u001b[1;33m\u001b[0m\u001b[1;33m\u001b[0m\u001b[0m\n\u001b[0;32m    515\u001b[0m                     \u001b[1;32mif\u001b[0m \u001b[1;32mnot\u001b[0m \u001b[0mnew_labels\u001b[0m\u001b[1;33m.\u001b[0m\u001b[0mequals\u001b[0m\u001b[1;33m(\u001b[0m\u001b[0mobj_labels\u001b[0m\u001b[1;33m)\u001b[0m\u001b[1;33m:\u001b[0m\u001b[1;33m\u001b[0m\u001b[1;33m\u001b[0m\u001b[0m\n\u001b[1;32m--> 516\u001b[1;33m                         \u001b[0mindexers\u001b[0m\u001b[1;33m[\u001b[0m\u001b[0max\u001b[0m\u001b[1;33m]\u001b[0m \u001b[1;33m=\u001b[0m \u001b[0mobj_labels\u001b[0m\u001b[1;33m.\u001b[0m\u001b[0mget_indexer\u001b[0m\u001b[1;33m(\u001b[0m\u001b[0mnew_labels\u001b[0m\u001b[1;33m)\u001b[0m\u001b[1;33m\u001b[0m\u001b[1;33m\u001b[0m\u001b[0m\n\u001b[0m\u001b[0;32m    517\u001b[0m \u001b[1;33m\u001b[0m\u001b[0m\n\u001b[0;32m    518\u001b[0m                 \u001b[0mmgrs_indexers\u001b[0m\u001b[1;33m.\u001b[0m\u001b[0mappend\u001b[0m\u001b[1;33m(\u001b[0m\u001b[1;33m(\u001b[0m\u001b[0mobj\u001b[0m\u001b[1;33m.\u001b[0m\u001b[0m_mgr\u001b[0m\u001b[1;33m,\u001b[0m \u001b[0mindexers\u001b[0m\u001b[1;33m)\u001b[0m\u001b[1;33m)\u001b[0m\u001b[1;33m\u001b[0m\u001b[1;33m\u001b[0m\u001b[0m\n",
      "\u001b[1;32m~\\AppData\\Local\\Programs\\Python\\Python37\\lib\\site-packages\\pandas\\core\\indexes\\base.py\u001b[0m in \u001b[0;36mget_indexer\u001b[1;34m(self, target, method, limit, tolerance)\u001b[0m\n\u001b[0;32m   3170\u001b[0m         \u001b[1;32mif\u001b[0m \u001b[1;32mnot\u001b[0m \u001b[0mself\u001b[0m\u001b[1;33m.\u001b[0m\u001b[0mis_unique\u001b[0m\u001b[1;33m:\u001b[0m\u001b[1;33m\u001b[0m\u001b[1;33m\u001b[0m\u001b[0m\n\u001b[0;32m   3171\u001b[0m             raise InvalidIndexError(\n\u001b[1;32m-> 3172\u001b[1;33m                 \u001b[1;34m\"Reindexing only valid with uniquely valued Index objects\"\u001b[0m\u001b[1;33m\u001b[0m\u001b[1;33m\u001b[0m\u001b[0m\n\u001b[0m\u001b[0;32m   3173\u001b[0m             )\n\u001b[0;32m   3174\u001b[0m \u001b[1;33m\u001b[0m\u001b[0m\n",
      "\u001b[1;31mInvalidIndexError\u001b[0m: Reindexing only valid with uniquely valued Index objects"
     ]
    }
   ],
   "source": [
    "# Preprocesamiento de datos\n",
    "\n",
    "scaler = preprocessing.MinMaxScaler()\n",
    "label_enc = preprocessing.OneHotEncoder(sparse = False) #Tiene mas sentido\n",
    "\n",
    "\n",
    "# Datos a regularizar\n",
    "#reg_data = ['year', 'mileage', 'tax', 'mpg', 'engineSize']\n",
    "reg_data = ['year', 'mileage', 'engineSize']\n",
    "\n",
    "# Datos para etiquetar, con OneHotEncoder\n",
    "lab_data = ['model', 'transmission', 'fuelType', 'brand']\n",
    "\n",
    "#print(dataset)\n",
    "\n",
    "dataset[reg_data] = scaler.fit_transform(dataset[reg_data])\n",
    "#dataset[reg_data] = preprocessing.normalize(dataset[reg_data], norm = 'l2')\n",
    "transformed = label_enc.fit_transform(dataset[lab_data[0]].to_numpy().reshape(-1, 1))\n",
    "#Create a Pandas DataFrame of the hot encoded column\n",
    "ohe_df = pd.DataFrame(transformed, columns=label_enc.get_feature_names())\n",
    "#concat with original data\n",
    "#dataset = pd.concat([dataset, ohe_df], axis=1).drop([c], axis=1)\n",
    "#ohe_df\n",
    "d = pd.concat([dataset, ohe_df], axis = 1, ignore_index = False)\n",
    "#print(ohe_df.shape)\n",
    "#print(dataset.shape)\n",
    "#for label in label_enc.get_feature_names():\n",
    "#    dataset[label] = ohe_df[label]\n",
    "#dataset\n",
    "#dataset.append(ohe_df, ignore_index = True)\n",
    "\n",
    "\n",
    "#for c in lab_data:\n",
    "#    transformed = label_enc.fit_transform(dataset[c].to_numpy().reshape(-1, 1))\n",
    "#    #Create a Pandas DataFrame of the hot encoded column\n",
    "#    ohe_df = pd.DataFrame(transformed, columns=label_enc.get_feature_names())\n",
    "#    #concat with original data\n",
    "#    dataset = pd.concat([dataset, ohe_df], axis=1).drop([c], axis=1)\n",
    "\n",
    "#for c in lab_data:\n",
    " #   dataset[c] = label_enc.fit_transform(dataset[c])\n",
    "    \n",
    "#print(dataset)\n",
    "\n",
    "#X = dataset[reg_data + lab_data]\n",
    "#y = dataset['price']\n",
    "#X\n",
    "\n",
    "#dataset['year'] = scaler.fit_transform(dataset['year'].reshape(-1, 1))\n",
    "#dataset['price'] = scaler.fit_transform(dataset['price'])\n",
    "#dataset['mileage'] = scaler.fit_transorm(dataset['mileage'])\n",
    "#dataset['tax'] = scaler.fit_transorm(dataset['tax'])\n",
    "#dataset['mpg'] = scaler.fit_transorm(dataset['mpg'])\n",
    "#dataset['engineSize'] = scaler.fit_transorm(dataset['engineSize'])\n",
    "\n",
    "#dataset['model'] = label_enc.fit_transform(dataset['model'])\n",
    "#dataset['transmission'] = label_enc.fit_transform(dataset['transmission'])\n",
    "#dataset['fuelType'] = label_enc.fit_transform(dataset['fuelType'])\n",
    "#dataset['brand'] = label_enc.fit_transform(dataset['brand'])"
   ]
  },
  {
   "cell_type": "code",
   "execution_count": 5,
   "metadata": {},
   "outputs": [
    {
     "data": {
      "text/plain": [
       "array([-68100252.50059715, -25475578.65062837, -61022942.89305083,\n",
       "       -30053369.02014657, -27355408.71937299])"
      ]
     },
     "execution_count": 5,
     "metadata": {},
     "output_type": "execute_result"
    }
   ],
   "source": [
    "lin_reg = LinearRegression()\n",
    "\n",
    "cross_val_score(lin_reg, X, y, cv = 5, scoring = 'neg_mean_squared_error')"
   ]
  },
  {
   "cell_type": "code",
   "execution_count": 83,
   "metadata": {},
   "outputs": [
    {
     "output_type": "execute_result",
     "data": {
      "text/plain": [
       "  model      year  price transmission   mileage fuelType  engineSize brand\n",
       "0    A1  0.896552  12500       Manual  0.048712   Petrol    0.133333  audi\n",
       "1    A6  0.862069  16500    Automatic  0.112081   Diesel    0.233333  audi\n",
       "2    A1  0.862069  11000       Manual  0.092709   Petrol    0.133333  audi\n",
       "3    A4  0.896552  16800    Automatic  0.080344   Diesel    0.233333  audi\n",
       "4    A3  0.965517  17300       Manual  0.006183   Petrol    0.066667  audi"
      ],
      "text/html": "<div>\n<style scoped>\n    .dataframe tbody tr th:only-of-type {\n        vertical-align: middle;\n    }\n\n    .dataframe tbody tr th {\n        vertical-align: top;\n    }\n\n    .dataframe thead th {\n        text-align: right;\n    }\n</style>\n<table border=\"1\" class=\"dataframe\">\n  <thead>\n    <tr style=\"text-align: right;\">\n      <th></th>\n      <th>model</th>\n      <th>year</th>\n      <th>price</th>\n      <th>transmission</th>\n      <th>mileage</th>\n      <th>fuelType</th>\n      <th>engineSize</th>\n      <th>brand</th>\n    </tr>\n  </thead>\n  <tbody>\n    <tr>\n      <th>0</th>\n      <td>A1</td>\n      <td>0.896552</td>\n      <td>12500</td>\n      <td>Manual</td>\n      <td>0.048712</td>\n      <td>Petrol</td>\n      <td>0.133333</td>\n      <td>audi</td>\n    </tr>\n    <tr>\n      <th>1</th>\n      <td>A6</td>\n      <td>0.862069</td>\n      <td>16500</td>\n      <td>Automatic</td>\n      <td>0.112081</td>\n      <td>Diesel</td>\n      <td>0.233333</td>\n      <td>audi</td>\n    </tr>\n    <tr>\n      <th>2</th>\n      <td>A1</td>\n      <td>0.862069</td>\n      <td>11000</td>\n      <td>Manual</td>\n      <td>0.092709</td>\n      <td>Petrol</td>\n      <td>0.133333</td>\n      <td>audi</td>\n    </tr>\n    <tr>\n      <th>3</th>\n      <td>A4</td>\n      <td>0.896552</td>\n      <td>16800</td>\n      <td>Automatic</td>\n      <td>0.080344</td>\n      <td>Diesel</td>\n      <td>0.233333</td>\n      <td>audi</td>\n    </tr>\n    <tr>\n      <th>4</th>\n      <td>A3</td>\n      <td>0.965517</td>\n      <td>17300</td>\n      <td>Manual</td>\n      <td>0.006183</td>\n      <td>Petrol</td>\n      <td>0.066667</td>\n      <td>audi</td>\n    </tr>\n  </tbody>\n</table>\n</div>"
     },
     "metadata": {},
     "execution_count": 83
    }
   ],
   "source": [
    "dataset.head(5)"
   ]
  },
  {
   "cell_type": "code",
   "execution_count": null,
   "metadata": {},
   "outputs": [],
   "source": [
    "from sklearn.model_selection import RandomizedSearchCV\n",
    "from sklearn.ensemble import RandomForestRegressor\n",
    "\n",
    "parameters = {\n",
    "    \n",
    "}\n",
    "\n",
    "rnd_forest_reg = RandomForestRegressor()\n",
    "rs = RandomizedSearchCV(rnd_forest_reg, parameters, n_iter = 25, verbose = 1, n_jobs = -1, cv = 3, random_state = 123)"
   ]
  }
 ],
 "metadata": {
  "kernelspec": {
   "name": "python377jvsc74a57bd09c56073c409faf520d7290760774b0280f63ff80cd1585da374fc600260cf1e1",
   "display_name": "Python 3.7.7 64-bit"
  },
  "language_info": {
   "codemirror_mode": {
    "name": "ipython",
    "version": 3
   },
   "file_extension": ".py",
   "mimetype": "text/x-python",
   "name": "python",
   "nbconvert_exporter": "python",
   "pygments_lexer": "ipython3",
   "version": "3.7.7"
  }
 },
 "nbformat": 4,
 "nbformat_minor": 4
}